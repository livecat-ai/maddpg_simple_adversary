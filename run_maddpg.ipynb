{
 "cells": [
  {
   "cell_type": "code",
   "execution_count": 1,
   "metadata": {},
   "outputs": [],
   "source": [
    "# main function that sets up environments\n",
    "# perform training loop\n",
    "import os\n",
    "os.environ[\"PATH\"] += os.pathsep + '/opt/X11/bin'\n",
    "# import envs\n",
    "from buffer import ReplayBuffer\n",
    "from maddpg import MADDPG\n",
    "import torch\n",
    "import numpy as np\n",
    "from tensorboardX import SummaryWriter\n",
    "import os\n",
    "from utilities import transpose_list, transpose_to_tensor\n",
    "\n",
    "from pettingzoo.mpe import simple_adversary_v2\n",
    "\n",
    "# keep training awake\n",
    "from workspace_utils import keep_awake\n",
    "\n",
    "# for saving gif\n",
    "import imageio"
   ]
  },
  {
   "cell_type": "code",
   "execution_count": 2,
   "metadata": {},
   "outputs": [],
   "source": [
    "def seeding(seed=1):\n",
    "    np.random.seed(seed)\n",
    "    torch.manual_seed(seed)"
   ]
  },
  {
   "cell_type": "code",
   "execution_count": 6,
   "metadata": {},
   "outputs": [],
   "source": [
    "def train():\n",
    "    seeding()\n",
    "    # number of parallel agents\n",
    "    # parallel_envs = 1\n",
    "    # number of training episodes.\n",
    "    # change this to higher number to experiment. say 30000.\n",
    "    number_of_episodes = 1001\n",
    "    episode_length = 100\n",
    "    batchsize = 256\n",
    "    # how many episodes to save policy and gif\n",
    "    save_interval = 50\n",
    "    # t = 0\n",
    "    \n",
    "    # amplitude of OU noise\n",
    "    # this slowly decreases to 0\n",
    "    noise = 0.5\n",
    "    noise_reduction = 1.0\n",
    "\n",
    "    # how many episodes before update\n",
    "    episode_per_update = 1\n",
    "\n",
    "    log_path = os.getcwd()+\"/log\"\n",
    "    model_dir= os.getcwd()+\"/model_dir\"\n",
    "    \n",
    "    os.makedirs(model_dir, exist_ok=True)\n",
    "\n",
    "    env = simple_adversary_v2.env(continuous_actions=True, render_mode='rgb_array', max_cycles=episode_length)\n",
    "     \n",
    "    # keep 5000 episodes worth of replay\n",
    "    buffer_size = int(5000*episode_length)\n",
    "    buffer = ReplayBuffer(buffer_size)\n",
    "    \n",
    "    # initialize policy and critic\n",
    "    maddpg = MADDPG()\n",
    "    logger = SummaryWriter(log_dir=log_path)\n",
    "\n",
    "\n",
    "    scores = []\n",
    "    avg_scores = []\n",
    "\n",
    "    # training loop\n",
    " \n",
    "    # use keep_awake to keep workspace from disconnecting\n",
    "    for episode in range(0, number_of_episodes):\n",
    "\n",
    "        reward_this_episode = np.zeros(3)\n",
    "        env.reset() #\n",
    "        agents = env.agents\n",
    "        num_agents = env.num_agents\n",
    "\n",
    "        # dummy_action = torch.tensor(np.zeros(5,))\n",
    "        dummy_action = torch.tensor(np.zeros(5,))\n",
    "        obs = [env.observe(agent) for agent in agents]\n",
    "       \n",
    "        for _ in range(num_agents):\n",
    "            env.step(dummy_action)\n",
    "\n",
    "        #for calculating rewards for this particular episode - addition of all time steps\n",
    "\n",
    "        # save info or not\n",
    "        save_info = (episode) % save_interval == 0\n",
    "        frames = []\n",
    "        \n",
    "        tmax = 0\n",
    "        \n",
    "        # if save_info:\n",
    "        #     frames.append(env.render('rgb_array'))\n",
    "        \n",
    "        for episode_t in range(episode_length):\n",
    "            \n",
    "            # explore = only explore for a certain number of episodes\n",
    "            # action input needs to be transposed\n",
    "            # obs_tensor = [torch.tensor(ob, dtype=torch.float32) for ob in obs]\n",
    "            # actions = maddpg.act(obs_tensor, noise=noise)\n",
    "            actions = maddpg.act(obs, noise=noise)\n",
    "            # actions = [action.clip(0.0, 1.0).detach().numpy() for action in actions]\n",
    "\n",
    "            noise *= noise_reduction\n",
    "            \n",
    "            # step forward one frame\n",
    "            next_obs, rewards, dones, infos = [], [], [], []\n",
    "            for i in range(num_agents): \n",
    "                next_ob, reward, termination, truncation, info = env.last()\n",
    "                done = termination or truncation\n",
    "                if done:\n",
    "                    break\n",
    "                next_obs.append(next_ob)\n",
    "                rewards.append(reward)\n",
    "                dones.append(done)\n",
    "                infos.append(info)\n",
    "                env.step(actions[i])\n",
    "            \n",
    "            if done:\n",
    "                break\n",
    "            # print(len(actions), len(actions[0]))\n",
    "            # raise\n",
    "            transition = (obs, actions, rewards, next_obs, dones)\n",
    "            buffer.push(transition)\n",
    "            \n",
    "            reward_this_episode += rewards\n",
    "\n",
    "            obs = next_obs\n",
    "            # save gif frame\n",
    "            if save_info:\n",
    "                frames.append(env.render())\n",
    "                tmax+=1\n",
    "        \n",
    "        if len(buffer) > batchsize and episode % episode_per_update == 0:\n",
    "            samples = buffer.sample(batchsize)\n",
    "            # a_i = 0\n",
    "            for a_i in range(num_agents):\n",
    "                # samples = buffer.sample(batchsize)\n",
    "                maddpg.update(samples, a_i, logger)\n",
    "                maddpg.update_targets() #soft update the target network towards the actual networks\n",
    "\n",
    "        # score = reward_this_episode\n",
    "        scores.append(reward_this_episode)\n",
    "        \n",
    "        if (episode % 100 == 0 or episode == number_of_episodes-1) and episode > 0:\n",
    "            # avg_rewards = [np.mean(agent0_reward), np.mean(agent1_reward), np.mean(agent2_reward)]\n",
    "            avg_rewards = [np.mean(score) for score in zip(*scores[-100:])]\n",
    "            avg_scores.append(avg_rewards)\n",
    "            print(\"Episode: {}, score: {}\".format(episode, np.mean(avg_rewards)))\n",
    "            # scores = []\n",
    "            for a_i, avg_rew in enumerate(avg_rewards):\n",
    "                logger.add_scalar('agent%i/mean_episode_rewards' % a_i, avg_rew, episode)\n",
    "\n",
    "        #saving model\n",
    "        save_dict_list =[]\n",
    "        if save_info:\n",
    "            for i in range(3):\n",
    "\n",
    "                save_dict = {'actor_params' : maddpg.maddpg_agent[i].actor.state_dict(),\n",
    "                             'actor_optim_params': maddpg.maddpg_agent[i].actor_optimizer.state_dict(),\n",
    "                             'critic_params' : maddpg.maddpg_agent[i].critic.state_dict(),\n",
    "                             'critic_optim_params' : maddpg.maddpg_agent[i].critic_optimizer.state_dict()}\n",
    "                save_dict_list.append(save_dict)\n",
    "\n",
    "                torch.save(save_dict_list, \n",
    "                           os.path.join(model_dir, 'episode-{}.pt'.format(episode)))\n",
    "                \n",
    "            # save gif files\n",
    "            imageio.mimsave(os.path.join(model_dir, 'episode-{}.gif'.format(episode)), \n",
    "                            frames, duration=.04)\n",
    "    return avg_scores\n",
    "    # env.close()\n",
    "    # logger.close()"
   ]
  },
  {
   "cell_type": "code",
   "execution_count": 7,
   "metadata": {},
   "outputs": [
    {
     "name": "stderr",
     "output_type": "stream",
     "text": [
      "/Users/johnlockwood/mambaforge/envs/zoo/lib/python3.10/site-packages/gymnasium/spaces/box.py:228: UserWarning: \u001b[33mWARN: Casting input x to numpy array.\u001b[0m\n",
      "  gym.logger.warn(\"Casting input x to numpy array.\")\n"
     ]
    },
    {
     "name": "stdout",
     "output_type": "stream",
     "text": [
      "Episode: 100, score: -40.05787359322337\n",
      "Episode: 200, score: -77.82077261706523\n",
      "Episode: 300, score: -72.28530135433046\n",
      "Episode: 400, score: -57.62859117640992\n",
      "Episode: 500, score: -25.812635626685296\n",
      "Episode: 600, score: -10.047568076364618\n",
      "Episode: 700, score: -5.630053189379368\n",
      "Episode: 800, score: -5.075273695031555\n",
      "Episode: 900, score: -4.844751563590833\n",
      "Episode: 1000, score: -4.43001009877479\n"
     ]
    }
   ],
   "source": [
    "scores = train()"
   ]
  },
  {
   "cell_type": "code",
   "execution_count": 12,
   "metadata": {},
   "outputs": [
    {
     "data": {
      "text/plain": [
       "[<matplotlib.lines.Line2D at 0x28c2dd030>,\n",
       " <matplotlib.lines.Line2D at 0x28c2dd090>,\n",
       " <matplotlib.lines.Line2D at 0x28c2dd0c0>]"
      ]
     },
     "execution_count": 12,
     "metadata": {},
     "output_type": "execute_result"
    },
    {
     "data": {
      "image/png": "[encoded data removed]",
      "text/plain": [
       "<Figure size 640x480 with 1 Axes>"
      ]
     },
     "metadata": {},
     "output_type": "display_data"
    }
   ],
   "source": [
    "import matplotlib.pyplot as plt\n",
    "plt.ylabel(\"Avg scores\")\n",
    "plt.xlabel(\"episodes (100s)\")\n",
    "plt.plot(scores[2:])"
   ]
  },
  {
   "cell_type": "code",
   "execution_count": null,
   "metadata": {},
   "outputs": [],
   "source": []
  }
 ],
 "metadata": {
  "kernelspec": {
   "display_name": "zoo",
   "language": "python",
   "name": "python3"
  },
  "language_info": {
   "codemirror_mode": {
    "name": "ipython",
    "version": 3
   },
   "file_extension": ".py",
   "mimetype": "text/x-python",
   "name": "python",
   "nbconvert_exporter": "python",
   "pygments_lexer": "ipython3",
   "version": "3.10.9"
  },
  "orig_nbformat": 4
 },
 "nbformat": 4,
 "nbformat_minor": 2
}
